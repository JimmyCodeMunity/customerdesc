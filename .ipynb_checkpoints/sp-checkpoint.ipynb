{
 "cells": [
  {
   "cell_type": "code",
   "execution_count": 69,
   "metadata": {},
   "outputs": [],
   "source": [
    "import warnings\n",
    "import numpy as np\n",
    "import pandas as pd \n",
    "import seaborn as sns\n",
    "import matplotlib.pyplot as plt\n",
    "from sklearn.exceptions import ConvergenceWarning\n",
    "warnings.filterwarnings(\"ignore\", category=ConvergenceWarning)\n"
   ]
  },
  {
   "cell_type": "markdown",
   "metadata": {},
   "source": [
    "### Data Exploration and Understanding"
   ]
  },
  {
   "cell_type": "code",
   "execution_count": 70,
   "metadata": {},
   "outputs": [
    {
     "data": {
      "text/html": [
       "<div>\n",
       "<style scoped>\n",
       "    .dataframe tbody tr th:only-of-type {\n",
       "        vertical-align: middle;\n",
       "    }\n",
       "\n",
       "    .dataframe tbody tr th {\n",
       "        vertical-align: top;\n",
       "    }\n",
       "\n",
       "    .dataframe thead th {\n",
       "        text-align: right;\n",
       "    }\n",
       "</style>\n",
       "<table border=\"1\" class=\"dataframe\">\n",
       "  <thead>\n",
       "    <tr style=\"text-align: right;\">\n",
       "      <th></th>\n",
       "      <th>invoiceID</th>\n",
       "      <th>branch</th>\n",
       "      <th>city</th>\n",
       "      <th>cust_type</th>\n",
       "      <th>gender</th>\n",
       "      <th>type</th>\n",
       "      <th>unit_price</th>\n",
       "      <th>quantity</th>\n",
       "      <th>date</th>\n",
       "      <th>time</th>\n",
       "      <th>payment</th>\n",
       "      <th>cost</th>\n",
       "      <th>gross income</th>\n",
       "      <th>rating</th>\n",
       "    </tr>\n",
       "  </thead>\n",
       "  <tbody>\n",
       "    <tr>\n",
       "      <th>0</th>\n",
       "      <td>101-17-6199</td>\n",
       "      <td>A</td>\n",
       "      <td>Cairo</td>\n",
       "      <td>Normal</td>\n",
       "      <td>Male</td>\n",
       "      <td>Food and beverages</td>\n",
       "      <td>45.79</td>\n",
       "      <td>7</td>\n",
       "      <td>2019-03-13</td>\n",
       "      <td>19:44:00</td>\n",
       "      <td>Credit card</td>\n",
       "      <td>320.53</td>\n",
       "      <td>16.0265</td>\n",
       "      <td>7.0</td>\n",
       "    </tr>\n",
       "    <tr>\n",
       "      <th>1</th>\n",
       "      <td>101-81-4070</td>\n",
       "      <td>C</td>\n",
       "      <td>Alexandria</td>\n",
       "      <td>Member</td>\n",
       "      <td>Female</td>\n",
       "      <td>Health and beauty</td>\n",
       "      <td>62.82</td>\n",
       "      <td>2</td>\n",
       "      <td>2019-01-17</td>\n",
       "      <td>12:36:00</td>\n",
       "      <td>eWallet</td>\n",
       "      <td>125.64</td>\n",
       "      <td>6.2820</td>\n",
       "      <td>4.9</td>\n",
       "    </tr>\n",
       "    <tr>\n",
       "      <th>2</th>\n",
       "      <td>102-06-2002</td>\n",
       "      <td>C</td>\n",
       "      <td>Alexandria</td>\n",
       "      <td>Member</td>\n",
       "      <td>Male</td>\n",
       "      <td>Sports and travel</td>\n",
       "      <td>25.25</td>\n",
       "      <td>5</td>\n",
       "      <td>2019-03-20</td>\n",
       "      <td>17:52:00</td>\n",
       "      <td>Cash</td>\n",
       "      <td>126.25</td>\n",
       "      <td>6.3125</td>\n",
       "      <td>6.1</td>\n",
       "    </tr>\n",
       "    <tr>\n",
       "      <th>3</th>\n",
       "      <td>102-77-2261</td>\n",
       "      <td>C</td>\n",
       "      <td>Alexandria</td>\n",
       "      <td>Member</td>\n",
       "      <td>Male</td>\n",
       "      <td>Health and beauty</td>\n",
       "      <td>65.31</td>\n",
       "      <td>7</td>\n",
       "      <td>2019-03-05</td>\n",
       "      <td>18:02:00</td>\n",
       "      <td>Credit card</td>\n",
       "      <td>457.17</td>\n",
       "      <td>22.8585</td>\n",
       "      <td>4.2</td>\n",
       "    </tr>\n",
       "    <tr>\n",
       "      <th>4</th>\n",
       "      <td>105-10-6182</td>\n",
       "      <td>A</td>\n",
       "      <td>Cairo</td>\n",
       "      <td>Member</td>\n",
       "      <td>Male</td>\n",
       "      <td>Fashion accessories</td>\n",
       "      <td>21.48</td>\n",
       "      <td>2</td>\n",
       "      <td>2019-02-27</td>\n",
       "      <td>12:22:00</td>\n",
       "      <td>eWallet</td>\n",
       "      <td>42.96</td>\n",
       "      <td>2.1480</td>\n",
       "      <td>6.6</td>\n",
       "    </tr>\n",
       "  </tbody>\n",
       "</table>\n",
       "</div>"
      ],
      "text/plain": [
       "     invoiceID branch        city cust_type  gender                 type  \\\n",
       "0  101-17-6199      A       Cairo    Normal    Male   Food and beverages   \n",
       "1  101-81-4070      C  Alexandria    Member  Female    Health and beauty   \n",
       "2  102-06-2002      C  Alexandria    Member    Male    Sports and travel   \n",
       "3  102-77-2261      C  Alexandria    Member    Male    Health and beauty   \n",
       "4  105-10-6182      A       Cairo    Member    Male  Fashion accessories   \n",
       "\n",
       "   unit_price  quantity       date      time      payment    cost  \\\n",
       "0       45.79         7 2019-03-13  19:44:00  Credit card  320.53   \n",
       "1       62.82         2 2019-01-17  12:36:00      eWallet  125.64   \n",
       "2       25.25         5 2019-03-20  17:52:00         Cash  126.25   \n",
       "3       65.31         7 2019-03-05  18:02:00  Credit card  457.17   \n",
       "4       21.48         2 2019-02-27  12:22:00      eWallet   42.96   \n",
       "\n",
       "   gross income  rating  \n",
       "0       16.0265     7.0  \n",
       "1        6.2820     4.9  \n",
       "2        6.3125     6.1  \n",
       "3       22.8585     4.2  \n",
       "4        2.1480     6.6  "
      ]
     },
     "execution_count": 70,
     "metadata": {},
     "output_type": "execute_result"
    }
   ],
   "source": [
    "df = pd.read_excel('supermarket.xls')\n",
    "df.head()"
   ]
  },
  {
   "cell_type": "code",
   "execution_count": 71,
   "metadata": {},
   "outputs": [
    {
     "name": "stdout",
     "output_type": "stream",
     "text": [
      "<class 'pandas.core.frame.DataFrame'>\n",
      "RangeIndex: 1000 entries, 0 to 999\n",
      "Data columns (total 14 columns):\n",
      " #   Column        Non-Null Count  Dtype         \n",
      "---  ------        --------------  -----         \n",
      " 0   invoiceID     1000 non-null   object        \n",
      " 1   branch        1000 non-null   object        \n",
      " 2   city          1000 non-null   object        \n",
      " 3   cust_type     1000 non-null   object        \n",
      " 4   gender        1000 non-null   object        \n",
      " 5   type          1000 non-null   object        \n",
      " 6   unit_price    1000 non-null   float64       \n",
      " 7   quantity      1000 non-null   int64         \n",
      " 8   date          1000 non-null   datetime64[ns]\n",
      " 9   time          1000 non-null   object        \n",
      " 10  payment       1000 non-null   object        \n",
      " 11  cost          1000 non-null   float64       \n",
      " 12  gross income  1000 non-null   float64       \n",
      " 13  rating        1000 non-null   float64       \n",
      "dtypes: datetime64[ns](1), float64(4), int64(1), object(8)\n",
      "memory usage: 109.5+ KB\n"
     ]
    }
   ],
   "source": [
    "df.info()"
   ]
  },
  {
   "cell_type": "code",
   "execution_count": 72,
   "metadata": {},
   "outputs": [
    {
     "data": {
      "text/html": [
       "<div>\n",
       "<style scoped>\n",
       "    .dataframe tbody tr th:only-of-type {\n",
       "        vertical-align: middle;\n",
       "    }\n",
       "\n",
       "    .dataframe tbody tr th {\n",
       "        vertical-align: top;\n",
       "    }\n",
       "\n",
       "    .dataframe thead th {\n",
       "        text-align: right;\n",
       "    }\n",
       "</style>\n",
       "<table border=\"1\" class=\"dataframe\">\n",
       "  <thead>\n",
       "    <tr style=\"text-align: right;\">\n",
       "      <th></th>\n",
       "      <th>unit_price</th>\n",
       "      <th>quantity</th>\n",
       "      <th>date</th>\n",
       "      <th>cost</th>\n",
       "      <th>gross income</th>\n",
       "      <th>rating</th>\n",
       "    </tr>\n",
       "  </thead>\n",
       "  <tbody>\n",
       "    <tr>\n",
       "      <th>count</th>\n",
       "      <td>1000.000000</td>\n",
       "      <td>1000.000000</td>\n",
       "      <td>1000</td>\n",
       "      <td>1000.00000</td>\n",
       "      <td>1000.000000</td>\n",
       "      <td>1000.00000</td>\n",
       "    </tr>\n",
       "    <tr>\n",
       "      <th>mean</th>\n",
       "      <td>55.672130</td>\n",
       "      <td>5.510000</td>\n",
       "      <td>2019-02-14 00:05:45.600000</td>\n",
       "      <td>307.58738</td>\n",
       "      <td>15.379369</td>\n",
       "      <td>6.97270</td>\n",
       "    </tr>\n",
       "    <tr>\n",
       "      <th>min</th>\n",
       "      <td>10.080000</td>\n",
       "      <td>1.000000</td>\n",
       "      <td>2019-01-01 00:00:00</td>\n",
       "      <td>10.17000</td>\n",
       "      <td>0.508500</td>\n",
       "      <td>4.00000</td>\n",
       "    </tr>\n",
       "    <tr>\n",
       "      <th>25%</th>\n",
       "      <td>32.875000</td>\n",
       "      <td>3.000000</td>\n",
       "      <td>2019-01-24 00:00:00</td>\n",
       "      <td>118.49750</td>\n",
       "      <td>5.924875</td>\n",
       "      <td>5.50000</td>\n",
       "    </tr>\n",
       "    <tr>\n",
       "      <th>50%</th>\n",
       "      <td>55.230000</td>\n",
       "      <td>5.000000</td>\n",
       "      <td>2019-02-13 00:00:00</td>\n",
       "      <td>241.76000</td>\n",
       "      <td>12.088000</td>\n",
       "      <td>7.00000</td>\n",
       "    </tr>\n",
       "    <tr>\n",
       "      <th>75%</th>\n",
       "      <td>77.935000</td>\n",
       "      <td>8.000000</td>\n",
       "      <td>2019-03-08 00:00:00</td>\n",
       "      <td>448.90500</td>\n",
       "      <td>22.445250</td>\n",
       "      <td>8.50000</td>\n",
       "    </tr>\n",
       "    <tr>\n",
       "      <th>max</th>\n",
       "      <td>99.960000</td>\n",
       "      <td>10.000000</td>\n",
       "      <td>2019-03-30 00:00:00</td>\n",
       "      <td>993.00000</td>\n",
       "      <td>49.650000</td>\n",
       "      <td>10.00000</td>\n",
       "    </tr>\n",
       "    <tr>\n",
       "      <th>std</th>\n",
       "      <td>26.494628</td>\n",
       "      <td>2.923431</td>\n",
       "      <td>NaN</td>\n",
       "      <td>234.17651</td>\n",
       "      <td>11.708825</td>\n",
       "      <td>1.71858</td>\n",
       "    </tr>\n",
       "  </tbody>\n",
       "</table>\n",
       "</div>"
      ],
      "text/plain": [
       "        unit_price     quantity                        date        cost  \\\n",
       "count  1000.000000  1000.000000                        1000  1000.00000   \n",
       "mean     55.672130     5.510000  2019-02-14 00:05:45.600000   307.58738   \n",
       "min      10.080000     1.000000         2019-01-01 00:00:00    10.17000   \n",
       "25%      32.875000     3.000000         2019-01-24 00:00:00   118.49750   \n",
       "50%      55.230000     5.000000         2019-02-13 00:00:00   241.76000   \n",
       "75%      77.935000     8.000000         2019-03-08 00:00:00   448.90500   \n",
       "max      99.960000    10.000000         2019-03-30 00:00:00   993.00000   \n",
       "std      26.494628     2.923431                         NaN   234.17651   \n",
       "\n",
       "       gross income      rating  \n",
       "count   1000.000000  1000.00000  \n",
       "mean      15.379369     6.97270  \n",
       "min        0.508500     4.00000  \n",
       "25%        5.924875     5.50000  \n",
       "50%       12.088000     7.00000  \n",
       "75%       22.445250     8.50000  \n",
       "max       49.650000    10.00000  \n",
       "std       11.708825     1.71858  "
      ]
     },
     "execution_count": 72,
     "metadata": {},
     "output_type": "execute_result"
    }
   ],
   "source": [
    "df.describe()"
   ]
  },
  {
   "cell_type": "markdown",
   "metadata": {},
   "source": [
    "##### Determine categorical values"
   ]
  },
  {
   "cell_type": "code",
   "execution_count": 73,
   "metadata": {},
   "outputs": [
    {
     "data": {
      "text/plain": [
       "invoiceID       1000\n",
       "branch             3\n",
       "city               3\n",
       "cust_type          2\n",
       "gender             2\n",
       "type               6\n",
       "unit_price       943\n",
       "quantity          10\n",
       "date              89\n",
       "time             506\n",
       "payment            3\n",
       "cost             990\n",
       "gross income     990\n",
       "rating            61\n",
       "dtype: int64"
      ]
     },
     "execution_count": 73,
     "metadata": {},
     "output_type": "execute_result"
    }
   ],
   "source": [
    "df.nunique()"
   ]
  },
  {
   "cell_type": "markdown",
   "metadata": {},
   "source": [
    "our categorical values are:\n",
    "- branch\n",
    "- city\n",
    "- cust_type\n",
    "- gender"
   ]
  },
  {
   "cell_type": "markdown",
   "metadata": {},
   "source": [
    "\n",
    "### Data Preprocessing & Feature engineering "
   ]
  },
  {
   "cell_type": "code",
   "execution_count": 74,
   "metadata": {},
   "outputs": [],
   "source": [
    "from sklearn.preprocessing import StandardScaler\n",
    "from sklearn.model_selection import train_test_split"
   ]
  },
  {
   "cell_type": "code",
   "execution_count": 75,
   "metadata": {},
   "outputs": [
    {
     "data": {
      "text/html": [
       "<div>\n",
       "<style scoped>\n",
       "    .dataframe tbody tr th:only-of-type {\n",
       "        vertical-align: middle;\n",
       "    }\n",
       "\n",
       "    .dataframe tbody tr th {\n",
       "        vertical-align: top;\n",
       "    }\n",
       "\n",
       "    .dataframe thead th {\n",
       "        text-align: right;\n",
       "    }\n",
       "</style>\n",
       "<table border=\"1\" class=\"dataframe\">\n",
       "  <thead>\n",
       "    <tr style=\"text-align: right;\">\n",
       "      <th></th>\n",
       "      <th>invoiceID</th>\n",
       "      <th>cust_type</th>\n",
       "      <th>unit_price</th>\n",
       "      <th>quantity</th>\n",
       "      <th>date</th>\n",
       "      <th>time</th>\n",
       "      <th>cost</th>\n",
       "      <th>gross income</th>\n",
       "      <th>rating</th>\n",
       "      <th>branch_A</th>\n",
       "      <th>...</th>\n",
       "      <th>gender_Male</th>\n",
       "      <th>type_Electronic accessories</th>\n",
       "      <th>type_Fashion accessories</th>\n",
       "      <th>type_Food and beverages</th>\n",
       "      <th>type_Health and beauty</th>\n",
       "      <th>type_Home and lifestyle</th>\n",
       "      <th>type_Sports and travel</th>\n",
       "      <th>payment_Cash</th>\n",
       "      <th>payment_Credit card</th>\n",
       "      <th>payment_eWallet</th>\n",
       "    </tr>\n",
       "  </thead>\n",
       "  <tbody>\n",
       "    <tr>\n",
       "      <th>0</th>\n",
       "      <td>101-17-6199</td>\n",
       "      <td>Normal</td>\n",
       "      <td>45.79</td>\n",
       "      <td>7</td>\n",
       "      <td>2019-03-13</td>\n",
       "      <td>19:44:00</td>\n",
       "      <td>320.53</td>\n",
       "      <td>16.0265</td>\n",
       "      <td>7.0</td>\n",
       "      <td>True</td>\n",
       "      <td>...</td>\n",
       "      <td>True</td>\n",
       "      <td>False</td>\n",
       "      <td>False</td>\n",
       "      <td>True</td>\n",
       "      <td>False</td>\n",
       "      <td>False</td>\n",
       "      <td>False</td>\n",
       "      <td>False</td>\n",
       "      <td>True</td>\n",
       "      <td>False</td>\n",
       "    </tr>\n",
       "    <tr>\n",
       "      <th>1</th>\n",
       "      <td>101-81-4070</td>\n",
       "      <td>Member</td>\n",
       "      <td>62.82</td>\n",
       "      <td>2</td>\n",
       "      <td>2019-01-17</td>\n",
       "      <td>12:36:00</td>\n",
       "      <td>125.64</td>\n",
       "      <td>6.2820</td>\n",
       "      <td>4.9</td>\n",
       "      <td>False</td>\n",
       "      <td>...</td>\n",
       "      <td>False</td>\n",
       "      <td>False</td>\n",
       "      <td>False</td>\n",
       "      <td>False</td>\n",
       "      <td>True</td>\n",
       "      <td>False</td>\n",
       "      <td>False</td>\n",
       "      <td>False</td>\n",
       "      <td>False</td>\n",
       "      <td>True</td>\n",
       "    </tr>\n",
       "    <tr>\n",
       "      <th>2</th>\n",
       "      <td>102-06-2002</td>\n",
       "      <td>Member</td>\n",
       "      <td>25.25</td>\n",
       "      <td>5</td>\n",
       "      <td>2019-03-20</td>\n",
       "      <td>17:52:00</td>\n",
       "      <td>126.25</td>\n",
       "      <td>6.3125</td>\n",
       "      <td>6.1</td>\n",
       "      <td>False</td>\n",
       "      <td>...</td>\n",
       "      <td>True</td>\n",
       "      <td>False</td>\n",
       "      <td>False</td>\n",
       "      <td>False</td>\n",
       "      <td>False</td>\n",
       "      <td>False</td>\n",
       "      <td>True</td>\n",
       "      <td>True</td>\n",
       "      <td>False</td>\n",
       "      <td>False</td>\n",
       "    </tr>\n",
       "    <tr>\n",
       "      <th>3</th>\n",
       "      <td>102-77-2261</td>\n",
       "      <td>Member</td>\n",
       "      <td>65.31</td>\n",
       "      <td>7</td>\n",
       "      <td>2019-03-05</td>\n",
       "      <td>18:02:00</td>\n",
       "      <td>457.17</td>\n",
       "      <td>22.8585</td>\n",
       "      <td>4.2</td>\n",
       "      <td>False</td>\n",
       "      <td>...</td>\n",
       "      <td>True</td>\n",
       "      <td>False</td>\n",
       "      <td>False</td>\n",
       "      <td>False</td>\n",
       "      <td>True</td>\n",
       "      <td>False</td>\n",
       "      <td>False</td>\n",
       "      <td>False</td>\n",
       "      <td>True</td>\n",
       "      <td>False</td>\n",
       "    </tr>\n",
       "    <tr>\n",
       "      <th>4</th>\n",
       "      <td>105-10-6182</td>\n",
       "      <td>Member</td>\n",
       "      <td>21.48</td>\n",
       "      <td>2</td>\n",
       "      <td>2019-02-27</td>\n",
       "      <td>12:22:00</td>\n",
       "      <td>42.96</td>\n",
       "      <td>2.1480</td>\n",
       "      <td>6.6</td>\n",
       "      <td>True</td>\n",
       "      <td>...</td>\n",
       "      <td>True</td>\n",
       "      <td>False</td>\n",
       "      <td>True</td>\n",
       "      <td>False</td>\n",
       "      <td>False</td>\n",
       "      <td>False</td>\n",
       "      <td>False</td>\n",
       "      <td>False</td>\n",
       "      <td>False</td>\n",
       "      <td>True</td>\n",
       "    </tr>\n",
       "  </tbody>\n",
       "</table>\n",
       "<p>5 rows × 26 columns</p>\n",
       "</div>"
      ],
      "text/plain": [
       "     invoiceID cust_type  unit_price  quantity       date      time    cost  \\\n",
       "0  101-17-6199    Normal       45.79         7 2019-03-13  19:44:00  320.53   \n",
       "1  101-81-4070    Member       62.82         2 2019-01-17  12:36:00  125.64   \n",
       "2  102-06-2002    Member       25.25         5 2019-03-20  17:52:00  126.25   \n",
       "3  102-77-2261    Member       65.31         7 2019-03-05  18:02:00  457.17   \n",
       "4  105-10-6182    Member       21.48         2 2019-02-27  12:22:00   42.96   \n",
       "\n",
       "   gross income  rating  branch_A  ...  gender_Male  \\\n",
       "0       16.0265     7.0      True  ...         True   \n",
       "1        6.2820     4.9     False  ...        False   \n",
       "2        6.3125     6.1     False  ...         True   \n",
       "3       22.8585     4.2     False  ...         True   \n",
       "4        2.1480     6.6      True  ...         True   \n",
       "\n",
       "   type_Electronic accessories  type_Fashion accessories  \\\n",
       "0                        False                     False   \n",
       "1                        False                     False   \n",
       "2                        False                     False   \n",
       "3                        False                     False   \n",
       "4                        False                      True   \n",
       "\n",
       "   type_Food and beverages  type_Health and beauty  type_Home and lifestyle  \\\n",
       "0                     True                   False                    False   \n",
       "1                    False                    True                    False   \n",
       "2                    False                   False                    False   \n",
       "3                    False                    True                    False   \n",
       "4                    False                   False                    False   \n",
       "\n",
       "   type_Sports and travel  payment_Cash  payment_Credit card  payment_eWallet  \n",
       "0                   False         False                 True            False  \n",
       "1                   False         False                False             True  \n",
       "2                    True          True                False            False  \n",
       "3                   False         False                 True            False  \n",
       "4                   False         False                False             True  \n",
       "\n",
       "[5 rows x 26 columns]"
      ]
     },
     "execution_count": 75,
     "metadata": {},
     "output_type": "execute_result"
    }
   ],
   "source": [
    "df = pd.get_dummies(df, columns=['branch', 'city', 'gender', 'type', 'payment'])\n",
    "df.head()"
   ]
  },
  {
   "cell_type": "code",
   "execution_count": 76,
   "metadata": {},
   "outputs": [
    {
     "data": {
      "text/html": [
       "<div>\n",
       "<style scoped>\n",
       "    .dataframe tbody tr th:only-of-type {\n",
       "        vertical-align: middle;\n",
       "    }\n",
       "\n",
       "    .dataframe tbody tr th {\n",
       "        vertical-align: top;\n",
       "    }\n",
       "\n",
       "    .dataframe thead th {\n",
       "        text-align: right;\n",
       "    }\n",
       "</style>\n",
       "<table border=\"1\" class=\"dataframe\">\n",
       "  <thead>\n",
       "    <tr style=\"text-align: right;\">\n",
       "      <th></th>\n",
       "      <th>cust_type</th>\n",
       "      <th>unit_price</th>\n",
       "      <th>quantity</th>\n",
       "      <th>cost</th>\n",
       "      <th>gross income</th>\n",
       "      <th>rating</th>\n",
       "      <th>branch_A</th>\n",
       "      <th>branch_B</th>\n",
       "      <th>branch_C</th>\n",
       "      <th>city_Alexandria</th>\n",
       "      <th>...</th>\n",
       "      <th>gender_Male</th>\n",
       "      <th>type_Electronic accessories</th>\n",
       "      <th>type_Fashion accessories</th>\n",
       "      <th>type_Food and beverages</th>\n",
       "      <th>type_Health and beauty</th>\n",
       "      <th>type_Home and lifestyle</th>\n",
       "      <th>type_Sports and travel</th>\n",
       "      <th>payment_Cash</th>\n",
       "      <th>payment_Credit card</th>\n",
       "      <th>payment_eWallet</th>\n",
       "    </tr>\n",
       "  </thead>\n",
       "  <tbody>\n",
       "    <tr>\n",
       "      <th>0</th>\n",
       "      <td>Normal</td>\n",
       "      <td>45.79</td>\n",
       "      <td>7</td>\n",
       "      <td>320.53</td>\n",
       "      <td>16.0265</td>\n",
       "      <td>7.0</td>\n",
       "      <td>True</td>\n",
       "      <td>False</td>\n",
       "      <td>False</td>\n",
       "      <td>False</td>\n",
       "      <td>...</td>\n",
       "      <td>True</td>\n",
       "      <td>False</td>\n",
       "      <td>False</td>\n",
       "      <td>True</td>\n",
       "      <td>False</td>\n",
       "      <td>False</td>\n",
       "      <td>False</td>\n",
       "      <td>False</td>\n",
       "      <td>True</td>\n",
       "      <td>False</td>\n",
       "    </tr>\n",
       "    <tr>\n",
       "      <th>1</th>\n",
       "      <td>Member</td>\n",
       "      <td>62.82</td>\n",
       "      <td>2</td>\n",
       "      <td>125.64</td>\n",
       "      <td>6.2820</td>\n",
       "      <td>4.9</td>\n",
       "      <td>False</td>\n",
       "      <td>False</td>\n",
       "      <td>True</td>\n",
       "      <td>True</td>\n",
       "      <td>...</td>\n",
       "      <td>False</td>\n",
       "      <td>False</td>\n",
       "      <td>False</td>\n",
       "      <td>False</td>\n",
       "      <td>True</td>\n",
       "      <td>False</td>\n",
       "      <td>False</td>\n",
       "      <td>False</td>\n",
       "      <td>False</td>\n",
       "      <td>True</td>\n",
       "    </tr>\n",
       "    <tr>\n",
       "      <th>2</th>\n",
       "      <td>Member</td>\n",
       "      <td>25.25</td>\n",
       "      <td>5</td>\n",
       "      <td>126.25</td>\n",
       "      <td>6.3125</td>\n",
       "      <td>6.1</td>\n",
       "      <td>False</td>\n",
       "      <td>False</td>\n",
       "      <td>True</td>\n",
       "      <td>True</td>\n",
       "      <td>...</td>\n",
       "      <td>True</td>\n",
       "      <td>False</td>\n",
       "      <td>False</td>\n",
       "      <td>False</td>\n",
       "      <td>False</td>\n",
       "      <td>False</td>\n",
       "      <td>True</td>\n",
       "      <td>True</td>\n",
       "      <td>False</td>\n",
       "      <td>False</td>\n",
       "    </tr>\n",
       "    <tr>\n",
       "      <th>3</th>\n",
       "      <td>Member</td>\n",
       "      <td>65.31</td>\n",
       "      <td>7</td>\n",
       "      <td>457.17</td>\n",
       "      <td>22.8585</td>\n",
       "      <td>4.2</td>\n",
       "      <td>False</td>\n",
       "      <td>False</td>\n",
       "      <td>True</td>\n",
       "      <td>True</td>\n",
       "      <td>...</td>\n",
       "      <td>True</td>\n",
       "      <td>False</td>\n",
       "      <td>False</td>\n",
       "      <td>False</td>\n",
       "      <td>True</td>\n",
       "      <td>False</td>\n",
       "      <td>False</td>\n",
       "      <td>False</td>\n",
       "      <td>True</td>\n",
       "      <td>False</td>\n",
       "    </tr>\n",
       "    <tr>\n",
       "      <th>4</th>\n",
       "      <td>Member</td>\n",
       "      <td>21.48</td>\n",
       "      <td>2</td>\n",
       "      <td>42.96</td>\n",
       "      <td>2.1480</td>\n",
       "      <td>6.6</td>\n",
       "      <td>True</td>\n",
       "      <td>False</td>\n",
       "      <td>False</td>\n",
       "      <td>False</td>\n",
       "      <td>...</td>\n",
       "      <td>True</td>\n",
       "      <td>False</td>\n",
       "      <td>True</td>\n",
       "      <td>False</td>\n",
       "      <td>False</td>\n",
       "      <td>False</td>\n",
       "      <td>False</td>\n",
       "      <td>False</td>\n",
       "      <td>False</td>\n",
       "      <td>True</td>\n",
       "    </tr>\n",
       "  </tbody>\n",
       "</table>\n",
       "<p>5 rows × 23 columns</p>\n",
       "</div>"
      ],
      "text/plain": [
       "  cust_type  unit_price  quantity    cost  gross income  rating  branch_A  \\\n",
       "0    Normal       45.79         7  320.53       16.0265     7.0      True   \n",
       "1    Member       62.82         2  125.64        6.2820     4.9     False   \n",
       "2    Member       25.25         5  126.25        6.3125     6.1     False   \n",
       "3    Member       65.31         7  457.17       22.8585     4.2     False   \n",
       "4    Member       21.48         2   42.96        2.1480     6.6      True   \n",
       "\n",
       "   branch_B  branch_C  city_Alexandria  ...  gender_Male  \\\n",
       "0     False     False            False  ...         True   \n",
       "1     False      True             True  ...        False   \n",
       "2     False      True             True  ...         True   \n",
       "3     False      True             True  ...         True   \n",
       "4     False     False            False  ...         True   \n",
       "\n",
       "   type_Electronic accessories  type_Fashion accessories  \\\n",
       "0                        False                     False   \n",
       "1                        False                     False   \n",
       "2                        False                     False   \n",
       "3                        False                     False   \n",
       "4                        False                      True   \n",
       "\n",
       "   type_Food and beverages  type_Health and beauty  type_Home and lifestyle  \\\n",
       "0                     True                   False                    False   \n",
       "1                    False                    True                    False   \n",
       "2                    False                   False                    False   \n",
       "3                    False                    True                    False   \n",
       "4                    False                   False                    False   \n",
       "\n",
       "   type_Sports and travel  payment_Cash  payment_Credit card  payment_eWallet  \n",
       "0                   False         False                 True            False  \n",
       "1                   False         False                False             True  \n",
       "2                    True          True                False            False  \n",
       "3                   False         False                 True            False  \n",
       "4                   False         False                False             True  \n",
       "\n",
       "[5 rows x 23 columns]"
      ]
     },
     "execution_count": 76,
     "metadata": {},
     "output_type": "execute_result"
    }
   ],
   "source": [
    "df = df.drop(columns=['invoiceID', 'date', 'time'])\n",
    "df.head()"
   ]
  },
  {
   "cell_type": "code",
   "execution_count": 77,
   "metadata": {},
   "outputs": [
    {
     "name": "stdout",
     "output_type": "stream",
     "text": [
      "<class 'pandas.core.frame.DataFrame'>\n",
      "RangeIndex: 1000 entries, 0 to 999\n",
      "Data columns (total 23 columns):\n",
      " #   Column                       Non-Null Count  Dtype  \n",
      "---  ------                       --------------  -----  \n",
      " 0   cust_type                    1000 non-null   object \n",
      " 1   unit_price                   1000 non-null   float64\n",
      " 2   quantity                     1000 non-null   int64  \n",
      " 3   cost                         1000 non-null   float64\n",
      " 4   gross income                 1000 non-null   float64\n",
      " 5   rating                       1000 non-null   float64\n",
      " 6   branch_A                     1000 non-null   bool   \n",
      " 7   branch_B                     1000 non-null   bool   \n",
      " 8   branch_C                     1000 non-null   bool   \n",
      " 9   city_Alexandria              1000 non-null   bool   \n",
      " 10  city_Cairo                   1000 non-null   bool   \n",
      " 11  city_Ismailia                1000 non-null   bool   \n",
      " 12  gender_Female                1000 non-null   bool   \n",
      " 13  gender_Male                  1000 non-null   bool   \n",
      " 14  type_Electronic accessories  1000 non-null   bool   \n",
      " 15  type_Fashion accessories     1000 non-null   bool   \n",
      " 16  type_Food and beverages      1000 non-null   bool   \n",
      " 17  type_Health and beauty       1000 non-null   bool   \n",
      " 18  type_Home and lifestyle      1000 non-null   bool   \n",
      " 19  type_Sports and travel       1000 non-null   bool   \n",
      " 20  payment_Cash                 1000 non-null   bool   \n",
      " 21  payment_Credit card          1000 non-null   bool   \n",
      " 22  payment_eWallet              1000 non-null   bool   \n",
      "dtypes: bool(17), float64(4), int64(1), object(1)\n",
      "memory usage: 63.6+ KB\n"
     ]
    }
   ],
   "source": [
    "df.info()"
   ]
  },
  {
   "cell_type": "code",
   "execution_count": 78,
   "metadata": {},
   "outputs": [
    {
     "data": {
      "text/html": [
       "<div>\n",
       "<style scoped>\n",
       "    .dataframe tbody tr th:only-of-type {\n",
       "        vertical-align: middle;\n",
       "    }\n",
       "\n",
       "    .dataframe tbody tr th {\n",
       "        vertical-align: top;\n",
       "    }\n",
       "\n",
       "    .dataframe thead th {\n",
       "        text-align: right;\n",
       "    }\n",
       "</style>\n",
       "<table border=\"1\" class=\"dataframe\">\n",
       "  <thead>\n",
       "    <tr style=\"text-align: right;\">\n",
       "      <th></th>\n",
       "      <th>cust_type</th>\n",
       "      <th>unit_price</th>\n",
       "      <th>quantity</th>\n",
       "      <th>cost</th>\n",
       "      <th>gross income</th>\n",
       "      <th>rating</th>\n",
       "      <th>branch_A</th>\n",
       "      <th>branch_B</th>\n",
       "      <th>branch_C</th>\n",
       "      <th>city_Alexandria</th>\n",
       "      <th>...</th>\n",
       "      <th>gender_Male</th>\n",
       "      <th>type_Electronic accessories</th>\n",
       "      <th>type_Fashion accessories</th>\n",
       "      <th>type_Food and beverages</th>\n",
       "      <th>type_Health and beauty</th>\n",
       "      <th>type_Home and lifestyle</th>\n",
       "      <th>type_Sports and travel</th>\n",
       "      <th>payment_Cash</th>\n",
       "      <th>payment_Credit card</th>\n",
       "      <th>payment_eWallet</th>\n",
       "    </tr>\n",
       "  </thead>\n",
       "  <tbody>\n",
       "    <tr>\n",
       "      <th>0</th>\n",
       "      <td>Normal</td>\n",
       "      <td>45.79</td>\n",
       "      <td>7</td>\n",
       "      <td>320.53</td>\n",
       "      <td>16.0265</td>\n",
       "      <td>7.0</td>\n",
       "      <td>1</td>\n",
       "      <td>0</td>\n",
       "      <td>0</td>\n",
       "      <td>0</td>\n",
       "      <td>...</td>\n",
       "      <td>1</td>\n",
       "      <td>0</td>\n",
       "      <td>0</td>\n",
       "      <td>1</td>\n",
       "      <td>0</td>\n",
       "      <td>0</td>\n",
       "      <td>0</td>\n",
       "      <td>0</td>\n",
       "      <td>1</td>\n",
       "      <td>0</td>\n",
       "    </tr>\n",
       "    <tr>\n",
       "      <th>1</th>\n",
       "      <td>Member</td>\n",
       "      <td>62.82</td>\n",
       "      <td>2</td>\n",
       "      <td>125.64</td>\n",
       "      <td>6.2820</td>\n",
       "      <td>4.9</td>\n",
       "      <td>0</td>\n",
       "      <td>0</td>\n",
       "      <td>1</td>\n",
       "      <td>1</td>\n",
       "      <td>...</td>\n",
       "      <td>0</td>\n",
       "      <td>0</td>\n",
       "      <td>0</td>\n",
       "      <td>0</td>\n",
       "      <td>1</td>\n",
       "      <td>0</td>\n",
       "      <td>0</td>\n",
       "      <td>0</td>\n",
       "      <td>0</td>\n",
       "      <td>1</td>\n",
       "    </tr>\n",
       "    <tr>\n",
       "      <th>2</th>\n",
       "      <td>Member</td>\n",
       "      <td>25.25</td>\n",
       "      <td>5</td>\n",
       "      <td>126.25</td>\n",
       "      <td>6.3125</td>\n",
       "      <td>6.1</td>\n",
       "      <td>0</td>\n",
       "      <td>0</td>\n",
       "      <td>1</td>\n",
       "      <td>1</td>\n",
       "      <td>...</td>\n",
       "      <td>1</td>\n",
       "      <td>0</td>\n",
       "      <td>0</td>\n",
       "      <td>0</td>\n",
       "      <td>0</td>\n",
       "      <td>0</td>\n",
       "      <td>1</td>\n",
       "      <td>1</td>\n",
       "      <td>0</td>\n",
       "      <td>0</td>\n",
       "    </tr>\n",
       "    <tr>\n",
       "      <th>3</th>\n",
       "      <td>Member</td>\n",
       "      <td>65.31</td>\n",
       "      <td>7</td>\n",
       "      <td>457.17</td>\n",
       "      <td>22.8585</td>\n",
       "      <td>4.2</td>\n",
       "      <td>0</td>\n",
       "      <td>0</td>\n",
       "      <td>1</td>\n",
       "      <td>1</td>\n",
       "      <td>...</td>\n",
       "      <td>1</td>\n",
       "      <td>0</td>\n",
       "      <td>0</td>\n",
       "      <td>0</td>\n",
       "      <td>1</td>\n",
       "      <td>0</td>\n",
       "      <td>0</td>\n",
       "      <td>0</td>\n",
       "      <td>1</td>\n",
       "      <td>0</td>\n",
       "    </tr>\n",
       "    <tr>\n",
       "      <th>4</th>\n",
       "      <td>Member</td>\n",
       "      <td>21.48</td>\n",
       "      <td>2</td>\n",
       "      <td>42.96</td>\n",
       "      <td>2.1480</td>\n",
       "      <td>6.6</td>\n",
       "      <td>1</td>\n",
       "      <td>0</td>\n",
       "      <td>0</td>\n",
       "      <td>0</td>\n",
       "      <td>...</td>\n",
       "      <td>1</td>\n",
       "      <td>0</td>\n",
       "      <td>1</td>\n",
       "      <td>0</td>\n",
       "      <td>0</td>\n",
       "      <td>0</td>\n",
       "      <td>0</td>\n",
       "      <td>0</td>\n",
       "      <td>0</td>\n",
       "      <td>1</td>\n",
       "    </tr>\n",
       "  </tbody>\n",
       "</table>\n",
       "<p>5 rows × 23 columns</p>\n",
       "</div>"
      ],
      "text/plain": [
       "  cust_type  unit_price  quantity    cost  gross income  rating  branch_A  \\\n",
       "0    Normal       45.79         7  320.53       16.0265     7.0         1   \n",
       "1    Member       62.82         2  125.64        6.2820     4.9         0   \n",
       "2    Member       25.25         5  126.25        6.3125     6.1         0   \n",
       "3    Member       65.31         7  457.17       22.8585     4.2         0   \n",
       "4    Member       21.48         2   42.96        2.1480     6.6         1   \n",
       "\n",
       "   branch_B  branch_C  city_Alexandria  ...  gender_Male  \\\n",
       "0         0         0                0  ...            1   \n",
       "1         0         1                1  ...            0   \n",
       "2         0         1                1  ...            1   \n",
       "3         0         1                1  ...            1   \n",
       "4         0         0                0  ...            1   \n",
       "\n",
       "   type_Electronic accessories  type_Fashion accessories  \\\n",
       "0                            0                         0   \n",
       "1                            0                         0   \n",
       "2                            0                         0   \n",
       "3                            0                         0   \n",
       "4                            0                         1   \n",
       "\n",
       "   type_Food and beverages  type_Health and beauty  type_Home and lifestyle  \\\n",
       "0                        1                       0                        0   \n",
       "1                        0                       1                        0   \n",
       "2                        0                       0                        0   \n",
       "3                        0                       1                        0   \n",
       "4                        0                       0                        0   \n",
       "\n",
       "   type_Sports and travel  payment_Cash  payment_Credit card  payment_eWallet  \n",
       "0                       0             0                    1                0  \n",
       "1                       0             0                    0                1  \n",
       "2                       1             1                    0                0  \n",
       "3                       0             0                    1                0  \n",
       "4                       0             0                    0                1  \n",
       "\n",
       "[5 rows x 23 columns]"
      ]
     },
     "execution_count": 78,
     "metadata": {},
     "output_type": "execute_result"
    }
   ],
   "source": [
    "boolean_columns = [col for col in df.columns if df[col].dtype == 'bool']\n",
    "\n",
    "# Convert boolean columns to strings\n",
    "df[boolean_columns] = df[boolean_columns].astype(int)\n",
    "df.head()"
   ]
  },
  {
   "cell_type": "code",
   "execution_count": 79,
   "metadata": {},
   "outputs": [
    {
     "data": {
      "text/html": [
       "<div>\n",
       "<style scoped>\n",
       "    .dataframe tbody tr th:only-of-type {\n",
       "        vertical-align: middle;\n",
       "    }\n",
       "\n",
       "    .dataframe tbody tr th {\n",
       "        vertical-align: top;\n",
       "    }\n",
       "\n",
       "    .dataframe thead th {\n",
       "        text-align: right;\n",
       "    }\n",
       "</style>\n",
       "<table border=\"1\" class=\"dataframe\">\n",
       "  <thead>\n",
       "    <tr style=\"text-align: right;\">\n",
       "      <th></th>\n",
       "      <th>unit_price</th>\n",
       "      <th>quantity</th>\n",
       "      <th>cost</th>\n",
       "      <th>gross income</th>\n",
       "      <th>rating</th>\n",
       "      <th>branch_A</th>\n",
       "      <th>branch_B</th>\n",
       "      <th>branch_C</th>\n",
       "      <th>city_Alexandria</th>\n",
       "      <th>city_Cairo</th>\n",
       "      <th>...</th>\n",
       "      <th>type_Electronic accessories</th>\n",
       "      <th>type_Fashion accessories</th>\n",
       "      <th>type_Food and beverages</th>\n",
       "      <th>type_Health and beauty</th>\n",
       "      <th>type_Home and lifestyle</th>\n",
       "      <th>type_Sports and travel</th>\n",
       "      <th>payment_Cash</th>\n",
       "      <th>payment_Credit card</th>\n",
       "      <th>payment_eWallet</th>\n",
       "      <th>customer_type</th>\n",
       "    </tr>\n",
       "  </thead>\n",
       "  <tbody>\n",
       "    <tr>\n",
       "      <th>0</th>\n",
       "      <td>45.79</td>\n",
       "      <td>7</td>\n",
       "      <td>320.53</td>\n",
       "      <td>16.0265</td>\n",
       "      <td>7.0</td>\n",
       "      <td>1</td>\n",
       "      <td>0</td>\n",
       "      <td>0</td>\n",
       "      <td>0</td>\n",
       "      <td>1</td>\n",
       "      <td>...</td>\n",
       "      <td>0</td>\n",
       "      <td>0</td>\n",
       "      <td>1</td>\n",
       "      <td>0</td>\n",
       "      <td>0</td>\n",
       "      <td>0</td>\n",
       "      <td>0</td>\n",
       "      <td>1</td>\n",
       "      <td>0</td>\n",
       "      <td>0</td>\n",
       "    </tr>\n",
       "    <tr>\n",
       "      <th>1</th>\n",
       "      <td>62.82</td>\n",
       "      <td>2</td>\n",
       "      <td>125.64</td>\n",
       "      <td>6.2820</td>\n",
       "      <td>4.9</td>\n",
       "      <td>0</td>\n",
       "      <td>0</td>\n",
       "      <td>1</td>\n",
       "      <td>1</td>\n",
       "      <td>0</td>\n",
       "      <td>...</td>\n",
       "      <td>0</td>\n",
       "      <td>0</td>\n",
       "      <td>0</td>\n",
       "      <td>1</td>\n",
       "      <td>0</td>\n",
       "      <td>0</td>\n",
       "      <td>0</td>\n",
       "      <td>0</td>\n",
       "      <td>1</td>\n",
       "      <td>1</td>\n",
       "    </tr>\n",
       "    <tr>\n",
       "      <th>2</th>\n",
       "      <td>25.25</td>\n",
       "      <td>5</td>\n",
       "      <td>126.25</td>\n",
       "      <td>6.3125</td>\n",
       "      <td>6.1</td>\n",
       "      <td>0</td>\n",
       "      <td>0</td>\n",
       "      <td>1</td>\n",
       "      <td>1</td>\n",
       "      <td>0</td>\n",
       "      <td>...</td>\n",
       "      <td>0</td>\n",
       "      <td>0</td>\n",
       "      <td>0</td>\n",
       "      <td>0</td>\n",
       "      <td>0</td>\n",
       "      <td>1</td>\n",
       "      <td>1</td>\n",
       "      <td>0</td>\n",
       "      <td>0</td>\n",
       "      <td>1</td>\n",
       "    </tr>\n",
       "    <tr>\n",
       "      <th>3</th>\n",
       "      <td>65.31</td>\n",
       "      <td>7</td>\n",
       "      <td>457.17</td>\n",
       "      <td>22.8585</td>\n",
       "      <td>4.2</td>\n",
       "      <td>0</td>\n",
       "      <td>0</td>\n",
       "      <td>1</td>\n",
       "      <td>1</td>\n",
       "      <td>0</td>\n",
       "      <td>...</td>\n",
       "      <td>0</td>\n",
       "      <td>0</td>\n",
       "      <td>0</td>\n",
       "      <td>1</td>\n",
       "      <td>0</td>\n",
       "      <td>0</td>\n",
       "      <td>0</td>\n",
       "      <td>1</td>\n",
       "      <td>0</td>\n",
       "      <td>1</td>\n",
       "    </tr>\n",
       "    <tr>\n",
       "      <th>4</th>\n",
       "      <td>21.48</td>\n",
       "      <td>2</td>\n",
       "      <td>42.96</td>\n",
       "      <td>2.1480</td>\n",
       "      <td>6.6</td>\n",
       "      <td>1</td>\n",
       "      <td>0</td>\n",
       "      <td>0</td>\n",
       "      <td>0</td>\n",
       "      <td>1</td>\n",
       "      <td>...</td>\n",
       "      <td>0</td>\n",
       "      <td>1</td>\n",
       "      <td>0</td>\n",
       "      <td>0</td>\n",
       "      <td>0</td>\n",
       "      <td>0</td>\n",
       "      <td>0</td>\n",
       "      <td>0</td>\n",
       "      <td>1</td>\n",
       "      <td>1</td>\n",
       "    </tr>\n",
       "  </tbody>\n",
       "</table>\n",
       "<p>5 rows × 23 columns</p>\n",
       "</div>"
      ],
      "text/plain": [
       "   unit_price  quantity    cost  gross income  rating  branch_A  branch_B  \\\n",
       "0       45.79         7  320.53       16.0265     7.0         1         0   \n",
       "1       62.82         2  125.64        6.2820     4.9         0         0   \n",
       "2       25.25         5  126.25        6.3125     6.1         0         0   \n",
       "3       65.31         7  457.17       22.8585     4.2         0         0   \n",
       "4       21.48         2   42.96        2.1480     6.6         1         0   \n",
       "\n",
       "   branch_C  city_Alexandria  city_Cairo  ...  type_Electronic accessories  \\\n",
       "0         0                0           1  ...                            0   \n",
       "1         1                1           0  ...                            0   \n",
       "2         1                1           0  ...                            0   \n",
       "3         1                1           0  ...                            0   \n",
       "4         0                0           1  ...                            0   \n",
       "\n",
       "   type_Fashion accessories  type_Food and beverages  type_Health and beauty  \\\n",
       "0                         0                        1                       0   \n",
       "1                         0                        0                       1   \n",
       "2                         0                        0                       0   \n",
       "3                         0                        0                       1   \n",
       "4                         1                        0                       0   \n",
       "\n",
       "   type_Home and lifestyle  type_Sports and travel  payment_Cash  \\\n",
       "0                        0                       0             0   \n",
       "1                        0                       0             0   \n",
       "2                        0                       1             1   \n",
       "3                        0                       0             0   \n",
       "4                        0                       0             0   \n",
       "\n",
       "   payment_Credit card  payment_eWallet  customer_type  \n",
       "0                    1                0              0  \n",
       "1                    0                1              1  \n",
       "2                    0                0              1  \n",
       "3                    1                0              1  \n",
       "4                    0                1              1  \n",
       "\n",
       "[5 rows x 23 columns]"
      ]
     },
     "execution_count": 79,
     "metadata": {},
     "output_type": "execute_result"
    }
   ],
   "source": [
    "df['customer_type'] = df['cust_type'].map({'Member': 1, 'Normal': 0})\n",
    "df = df.drop(columns='cust_type')\n",
    "df.head()"
   ]
  },
  {
   "cell_type": "code",
   "execution_count": 80,
   "metadata": {},
   "outputs": [
    {
     "name": "stdout",
     "output_type": "stream",
     "text": [
      "Train Set: (800, 23) Test Set: (200, 23)\n"
     ]
    }
   ],
   "source": [
    "train_set, test_set = train_test_split(df, test_size=0.2, random_state=42)\n",
    "\n",
    "print(f'Train Set: {train_set.shape} Test Set: {test_set.shape}')"
   ]
  },
  {
   "cell_type": "code",
   "execution_count": 81,
   "metadata": {},
   "outputs": [
    {
     "name": "stdout",
     "output_type": "stream",
     "text": [
      "X shape (800, 22)  y shape (800,) members on train set 399         X test shape (200, 22), y test shape (200,) members on test set 102\n"
     ]
    }
   ],
   "source": [
    "X = train_set.drop(columns=['customer_type'])\n",
    "y = train_set['customer_type']  \n",
    "X_test = test_set.drop(columns=['customer_type'])\n",
    "y_test = test_set['customer_type']\n",
    "\n",
    "print( f'X shape {X.shape}  y shape {y.shape} members on train set {y.sum()} \\\n",
    "        X test shape {X_test.shape}, y test shape {y_test.shape} members on test set {y_test.sum()}')"
   ]
  },
  {
   "cell_type": "code",
   "execution_count": 82,
   "metadata": {},
   "outputs": [],
   "source": [
    "#Datascaling\n",
    "scaler = StandardScaler()\n",
    "scaler.fit(X)\n",
    "X = scaler.transform(X)\n",
    "X_test = scaler.transform(X_test)"
   ]
  },
  {
   "cell_type": "code",
   "execution_count": 83,
   "metadata": {},
   "outputs": [
    {
     "data": {
      "text/plain": [
       "<Axes: xlabel='customer_type', ylabel='count'>"
      ]
     },
     "execution_count": 83,
     "metadata": {},
     "output_type": "execute_result"
    },
    {
     "data": {
      "image/png": "[encoded data removed]",
      "text/plain": [
       "<Figure size 640x480 with 1 Axes>"
      ]
     },
     "metadata": {},
     "output_type": "display_data"
    }
   ],
   "source": [
    "# check for target variamble imbalance\n",
    "sns.countplot(x=y, palette=['blue', 'red'])"
   ]
  },
  {
   "cell_type": "markdown",
   "metadata": {},
   "source": [
    "### Model Selection"
   ]
  },
  {
   "cell_type": "code",
   "execution_count": 84,
   "metadata": {},
   "outputs": [],
   "source": [
    "from sklearn.neural_network import MLPClassifier\n",
    "from sklearn.model_selection import StratifiedKFold, RandomizedSearchCV, cross_val_score\n",
    "from sklearn.ensemble import HistGradientBoostingClassifier, RandomForestClassifier, VotingClassifier, IsolationForest\n",
    "from sklearn.metrics import make_scorer, f1_score"
   ]
  },
  {
   "cell_type": "code",
   "execution_count": 85,
   "metadata": {},
   "outputs": [],
   "source": [
    "def model_selection(model, X, y):\n",
    "    scores = cross_val_score(model, X, y, scoring=make_scorer(f1_score), cv=8)\n",
    "    print(\"Cross Validation Mean score:\", scores.mean())"
   ]
  },
  {
   "cell_type": "code",
   "execution_count": 86,
   "metadata": {},
   "outputs": [
    {
     "name": "stdout",
     "output_type": "stream",
     "text": [
      "Cross Validation Mean score: 0.4822705641029479\n"
     ]
    }
   ],
   "source": [
    "# HistGradientBoostingClasifier Model\n",
    "gbc=HistGradientBoostingClassifier(random_state=42)\n",
    "model_selection(gbc, X, y)"
   ]
  },
  {
   "cell_type": "code",
   "execution_count": 87,
   "metadata": {},
   "outputs": [
    {
     "name": "stdout",
     "output_type": "stream",
     "text": [
      "Cross Validation Mean score: 0.4564741643551202\n"
     ]
    }
   ],
   "source": [
    "# RandomForestClassifier Model\n",
    "rfc = RandomForestClassifier(random_state=42)\n",
    "model_selection(rfc, X, y)"
   ]
  },
  {
   "cell_type": "code",
   "execution_count": 88,
   "metadata": {},
   "outputs": [
    {
     "name": "stdout",
     "output_type": "stream",
     "text": [
      "Cross Validation Mean score: 0.44609670239164934\n"
     ]
    }
   ],
   "source": [
    "# MLPClassifier Model\n",
    "mlpc = MLPClassifier(random_state=42)\n",
    "model_selection(mlpc, X, y)"
   ]
  },
  {
   "cell_type": "markdown",
   "metadata": {},
   "source": [
    "### Model Training and Evaluation"
   ]
  },
  {
   "cell_type": "code",
   "execution_count": 89,
   "metadata": {},
   "outputs": [],
   "source": [
    "from tqdm import tqdm \n",
    "from sklearn.base import clone \n",
    "from sklearn.metrics import confusion_matrix, mean_squared_error, make_scorer, precision_score, f1_score,  precision_recall_curve"
   ]
  },
  {
   "cell_type": "code",
   "execution_count": 90,
   "metadata": {},
   "outputs": [],
   "source": [
    "skfold = StratifiedKFold(n_splits=8, shuffle=True, random_state=42)\n",
    "\n",
    "def heatmap(y_test, y_preds):\n",
    "    cm = confusion_matrix(y_test, y_preds)\n",
    "    sns.heatmap(cm, annot=True, linewidths=.5, cmap='Blues_r', square=True, fmt='.3f')    \n",
    "    plt.title(f'F1_score {f1_score(y_test, y_preds)}')\n",
    "    plt.ylabel('Predicted Values')\n",
    "    plt.xlabel('Actual Values')\n",
    "\n",
    "\n",
    "def learning_curve(train_score, test_score):\n",
    "    # This function takes an array of the mean squard error of train and test scores    \n",
    "    plt.plot(np.sqrt(train_score), \"r-.\", linewidth=2, label=\"train\")\n",
    "    plt.plot(np.sqrt(test_score), \"b-\", linewidth=2, label=\"test\")\n",
    "    plt.title(f'Learning Curve')\n",
    "    plt.ylabel('Mean Squared Error')\n",
    "    plt.xlabel('Training Fold | Size')\n",
    "    plt.legend()\n",
    "    plt.show()\n",
    "\n",
    "def trade_of_curve(y_test, y_preds):\n",
    "\n",
    "    precision, recall, thresholds = precision_recall_curve(y_test, y_preds)\n",
    "    plt.plot(recall, precision, color='blue', label='Precision-Recall Curve')\n",
    "    plt.xlabel('Recall')\n",
    "    plt.ylabel('Precision')\n",
    "    plt.title('Precision-Recall Curve')\n",
    "    plt.legend()\n",
    "    plt.show()\n",
    "    \n",
    "    return thresholds\n",
    "\n",
    "def train_evaluate(model, X, y):\n",
    "    # train and plot learning curve\n",
    "    model = clone(model)\n",
    "    \n",
    "    train_score , test_score =[], []\n",
    "    train_f1score , test_f1score =[], []\n",
    "        \n",
    "    for train_fold, test_fold in tqdm(skfold.split(X, y), desc='Training folds 🤓'):\n",
    "    \n",
    "        X_train_fold, y_train_fold  = X[train_fold], y[train_fold]\n",
    "        X_test_fold, y_test_fold = X[test_fold], y[test_fold]\n",
    "        \n",
    "        model.fit(X_train_fold, y_train_fold)\n",
    "        \n",
    "        train_pred = model.predict(X_train_fold)\n",
    "        test_pred = model.predict(X_test_fold)\n",
    "        \n",
    "        train_score.append(mean_squared_error(y_train_fold, train_pred))\n",
    "        test_score.append(mean_squared_error(y_test_fold, test_pred))\n",
    "        train_f1score.append(f1_score(y_train_fold, train_pred))\n",
    "        test_f1score.append(f1_score(y_test_fold, test_pred))\n",
    "    \n",
    "    print('Training completed...🥲')\n",
    "\n",
    "    print(f'Train F1_score: {np.mean(train_f1score)}')\n",
    "    print(f'Test F1_score: {np.mean(test_f1score)}')\n",
    "    print(f'Train MSE: {np.mean(train_score)}')\n",
    "    print(f'Test MSE: {np.mean(test_score)}')\n",
    "    \n",
    "    learning_curve(train_score, test_score)\n",
    "    \n",
    "    return model"
   ]
  },
  {
   "cell_type": "code",
   "execution_count": 91,
   "metadata": {},
   "outputs": [
    {
     "name": "stderr",
     "output_type": "stream",
     "text": [
      "Training folds 🤓: 0it [00:00, ?it/s]"
     ]
    },
    {
     "name": "stderr",
     "output_type": "stream",
     "text": [
      "Training folds 🤓: 8it [00:09,  1.19s/it]\n"
     ]
    },
    {
     "name": "stdout",
     "output_type": "stream",
     "text": [
      "Training completed...🥲\n",
      "Train F1_score: 0.9879841377364531\n",
      "Test F1_score: 0.4629758389274556\n",
      "Train MSE: 0.011964285714285715\n",
      "Test MSE: 0.53125\n"
     ]
    },
    {
     "data": {
      "image/png": "[encoded data removed]",
      "text/plain": [
       "<Figure size 640x480 with 1 Axes>"
      ]
     },
     "metadata": {},
     "output_type": "display_data"
    },
    {
     "data": {
      "image/png": "[encoded data removed]",
      "text/plain": [
       "<Figure size 640x480 with 2 Axes>"
      ]
     },
     "metadata": {},
     "output_type": "display_data"
    }
   ],
   "source": [
    "# HistGradientBoostingClasifier Model\n",
    "y = y.values\n",
    "\n",
    "gbc=HistGradientBoostingClassifier(random_state=42)\n",
    "gbc = train_evaluate(gbc, X, y)\n",
    "\n",
    "prediction = gbc.predict(X_test)\n",
    "\n",
    "heatmap(y_test, prediction)"
   ]
  },
  {
   "cell_type": "code",
   "execution_count": 92,
   "metadata": {},
   "outputs": [
    {
     "name": "stderr",
     "output_type": "stream",
     "text": [
      "Training folds 🤓: 8it [00:06,  1.30it/s]\n"
     ]
    },
    {
     "name": "stdout",
     "output_type": "stream",
     "text": [
      "Training completed...🥲\n",
      "Train F1_score: 1.0\n",
      "Test F1_score: 0.4497729705036976\n",
      "Train MSE: 0.0\n",
      "Test MSE: 0.5375000000000001\n"
     ]
    },
    {
     "data": {
      "image/png": "[encoded data removed]",
      "text/plain": [
       "<Figure size 640x480 with 1 Axes>"
      ]
     },
     "metadata": {},
     "output_type": "display_data"
    },
    {
     "data": {
      "image/png": "[encoded data removed]",
      "text/plain": [
       "<Figure size 640x480 with 2 Axes>"
      ]
     },
     "metadata": {},
     "output_type": "display_data"
    }
   ],
   "source": [
    "# RandomForestClassifier Model\n",
    "rfc = RandomForestClassifier(random_state=42)\n",
    "\n",
    "rfc = train_evaluate(rfc, X, y)\n",
    "prediction = rfc.predict(X_test)\n",
    "\n",
    "heatmap(y_test, prediction)"
   ]
  },
  {
   "cell_type": "code",
   "execution_count": 93,
   "metadata": {},
   "outputs": [
    {
     "name": "stderr",
     "output_type": "stream",
     "text": [
      "Training folds 🤓: 8it [00:14,  1.85s/it]\n"
     ]
    },
    {
     "name": "stdout",
     "output_type": "stream",
     "text": [
      "Training completed...🥲\n",
      "Train F1_score: 0.7660959363926019\n",
      "Test F1_score: 0.44521017416042447\n",
      "Train MSE: 0.23214285714285715\n",
      "Test MSE: 0.5349999999999999\n"
     ]
    },
    {
     "data": {
      "image/png": "[encoded data removed]",
      "text/plain": [
       "<Figure size 640x480 with 1 Axes>"
      ]
     },
     "metadata": {},
     "output_type": "display_data"
    },
    {
     "data": {
      "image/png": "[encoded data removed]",
      "text/plain": [
       "<Figure size 640x480 with 2 Axes>"
      ]
     },
     "metadata": {},
     "output_type": "display_data"
    }
   ],
   "source": [
    "# MLPClassifier Model\n",
    "mlpc = MLPClassifier(random_state=42)\n",
    "\n",
    "mlpc = train_evaluate(mlpc, X, y)\n",
    "\n",
    "prediction = mlpc.predict(X_test)\n",
    "\n",
    "heatmap(y_test, prediction)"
   ]
  },
  {
   "cell_type": "markdown",
   "metadata": {},
   "source": [
    "### Improving Model Performance"
   ]
  },
  {
   "cell_type": "markdown",
   "metadata": {},
   "source": [
    "#### Reguralization Technique"
   ]
  },
  {
   "cell_type": "code",
   "execution_count": 94,
   "metadata": {},
   "outputs": [],
   "source": [
    "rfc_params = {\n",
    "    \"n_estimators\": [int(x) for x in np.linspace(start = 10, stop = 1000, num = 10, dtype=int)],\n",
    "    \"max_depth\": np.linspace(start = 2, stop = 10, num = 10, dtype=int)\n",
    "}\n",
    "\n",
    "histgradient_params = { \n",
    "    'max_iter': [int(x) for x in np.linspace(start = 100, stop = 1000, num = 10)],\n",
    "    'learning_rate': np.linspace(0.01, 1, num=10),\n",
    "    'max_depth': np.linspace(start = 2, stop = 10, num = 10, dtype=int),\n",
    "    'l2_regularization': np.linspace(0.01, 1, num=10)\n",
    "}\n",
    "\n",
    "mlpc_params = {\n",
    "    'max_iter': [int(x) for x in np.linspace(start = 10, stop = 200, num = 10)],\n",
    "    'alpha': np.linspace(0.0001, 0.1, num=10),\n",
    "    'solver': ['lbfgs', 'adam', 'sgd']\n",
    "}\n",
    "\n",
    "scoring = {\n",
    "    'F1': make_scorer(f1_score, greater_is_better=True),\n",
    "    'precision': make_scorer(precision_score, greater_is_better=True)\n",
    "    # 'my_scorer': my_scorer\n",
    "}"
   ]
  },
  {
   "cell_type": "code",
   "execution_count": 95,
   "metadata": {},
   "outputs": [],
   "source": [
    "def best_estimator(model, params, X_train, y_train):\n",
    "    random_search = RandomizedSearchCV(\n",
    "        model,\n",
    "        param_distributions=params,\n",
    "        n_iter=10,\n",
    "        cv=5,\n",
    "        scoring=scoring,\n",
    "        refit='F1',\n",
    "        n_jobs=-1,  \n",
    "        random_state=42\n",
    "    )\n",
    "\n",
    "    # Fit the random search algorithm to the data\n",
    "    random_search.fit(X_train, y_train)\n",
    "\n",
    "    # Print the best hyperparameters and score\n",
    "    print(\"Best hyperparameters:\", random_search.best_params_)\n",
    "    print(\"Validation score:\", random_search.best_score_)\n",
    "    \n",
    "    best_estimator = random_search.best_estimator_\n",
    "    \n",
    "    return best_estimator"
   ]
  },
  {
   "cell_type": "markdown",
   "metadata": {},
   "source": [
    "#### Early Stopping"
   ]
  },
  {
   "cell_type": "code",
   "execution_count": 96,
   "metadata": {},
   "outputs": [
    {
     "name": "stdout",
     "output_type": "stream",
     "text": [
      "Best hyperparameters: {'n_estimators': 10, 'max_depth': 9}\n",
      "Validation score: 0.4895696613249213\n"
     ]
    },
    {
     "data": {
      "image/png": "[encoded data removed]",
      "text/plain": [
       "<Figure size 640x480 with 2 Axes>"
      ]
     },
     "metadata": {},
     "output_type": "display_data"
    }
   ],
   "source": [
    "rfc = RandomForestClassifier(warm_start=True)\n",
    "rfc = best_estimator(rfc, rfc_params, X, y)\n",
    "prediction = rfc.predict(X_test)\n",
    "heatmap(y_test, prediction)"
   ]
  },
  {
   "cell_type": "code",
   "execution_count": 97,
   "metadata": {},
   "outputs": [
    {
     "name": "stderr",
     "output_type": "stream",
     "text": [
      "/home/simba/anaconda3/envs/lucy/lib/python3.8/site-packages/sklearn/neural_network/_multilayer_perceptron.py:691: ConvergenceWarning: Stochastic Optimizer: Maximum iterations (10) reached and the optimization hasn't converged yet.\n",
      "  warnings.warn(\n",
      "/home/simba/anaconda3/envs/lucy/lib/python3.8/site-packages/sklearn/neural_network/_multilayer_perceptron.py:691: ConvergenceWarning: Stochastic Optimizer: Maximum iterations (10) reached and the optimization hasn't converged yet.\n",
      "  warnings.warn(\n",
      "/home/simba/anaconda3/envs/lucy/lib/python3.8/site-packages/sklearn/neural_network/_multilayer_perceptron.py:691: ConvergenceWarning: Stochastic Optimizer: Maximum iterations (10) reached and the optimization hasn't converged yet.\n",
      "  warnings.warn(\n",
      "/home/simba/anaconda3/envs/lucy/lib/python3.8/site-packages/sklearn/neural_network/_multilayer_perceptron.py:691: ConvergenceWarning: Stochastic Optimizer: Maximum iterations (10) reached and the optimization hasn't converged yet.\n",
      "  warnings.warn(\n",
      "/home/simba/anaconda3/envs/lucy/lib/python3.8/site-packages/sklearn/neural_network/_multilayer_perceptron.py:691: ConvergenceWarning: Stochastic Optimizer: Maximum iterations (10) reached and the optimization hasn't converged yet.\n",
      "  warnings.warn(\n",
      "/home/simba/anaconda3/envs/lucy/lib/python3.8/site-packages/sklearn/neural_network/_multilayer_perceptron.py:546: ConvergenceWarning: lbfgs failed to converge (status=1):\n",
      "STOP: TOTAL NO. of ITERATIONS REACHED LIMIT.\n",
      "\n",
      "Increase the number of iterations (max_iter) or scale the data as shown in:\n",
      "    https://scikit-learn.org/stable/modules/preprocessing.html\n",
      "  self.n_iter_ = _check_optimize_result(\"lbfgs\", opt_res, self.max_iter)\n",
      "/home/simba/anaconda3/envs/lucy/lib/python3.8/site-packages/sklearn/neural_network/_multilayer_perceptron.py:546: ConvergenceWarning: lbfgs failed to converge (status=1):\n",
      "STOP: TOTAL NO. of ITERATIONS REACHED LIMIT.\n",
      "\n",
      "Increase the number of iterations (max_iter) or scale the data as shown in:\n",
      "    https://scikit-learn.org/stable/modules/preprocessing.html\n",
      "  self.n_iter_ = _check_optimize_result(\"lbfgs\", opt_res, self.max_iter)\n",
      "/home/simba/anaconda3/envs/lucy/lib/python3.8/site-packages/sklearn/neural_network/_multilayer_perceptron.py:546: ConvergenceWarning: lbfgs failed to converge (status=1):\n",
      "STOP: TOTAL NO. of ITERATIONS REACHED LIMIT.\n",
      "\n",
      "Increase the number of iterations (max_iter) or scale the data as shown in:\n",
      "    https://scikit-learn.org/stable/modules/preprocessing.html\n",
      "  self.n_iter_ = _check_optimize_result(\"lbfgs\", opt_res, self.max_iter)\n",
      "/home/simba/anaconda3/envs/lucy/lib/python3.8/site-packages/sklearn/neural_network/_multilayer_perceptron.py:546: ConvergenceWarning: lbfgs failed to converge (status=1):\n",
      "STOP: TOTAL NO. of ITERATIONS REACHED LIMIT.\n",
      "\n",
      "Increase the number of iterations (max_iter) or scale the data as shown in:\n",
      "    https://scikit-learn.org/stable/modules/preprocessing.html\n",
      "  self.n_iter_ = _check_optimize_result(\"lbfgs\", opt_res, self.max_iter)\n",
      "/home/simba/anaconda3/envs/lucy/lib/python3.8/site-packages/sklearn/neural_network/_multilayer_perceptron.py:546: ConvergenceWarning: lbfgs failed to converge (status=1):\n",
      "STOP: TOTAL NO. of ITERATIONS REACHED LIMIT.\n",
      "\n",
      "Increase the number of iterations (max_iter) or scale the data as shown in:\n",
      "    https://scikit-learn.org/stable/modules/preprocessing.html\n",
      "  self.n_iter_ = _check_optimize_result(\"lbfgs\", opt_res, self.max_iter)\n",
      "/home/simba/anaconda3/envs/lucy/lib/python3.8/site-packages/sklearn/neural_network/_multilayer_perceptron.py:691: ConvergenceWarning: Stochastic Optimizer: Maximum iterations (31) reached and the optimization hasn't converged yet.\n",
      "  warnings.warn(\n"
     ]
    },
    {
     "name": "stdout",
     "output_type": "stream",
     "text": [
      "Best hyperparameters: {'solver': 'adam', 'max_iter': 115, 'alpha': 0.06670000000000001}\n",
      "Validation score: 0.5052624908463437\n"
     ]
    },
    {
     "data": {
      "image/png": "[encoded data removed]",
      "text/plain": [
       "<Figure size 640x480 with 2 Axes>"
      ]
     },
     "metadata": {},
     "output_type": "display_data"
    }
   ],
   "source": [
    "mlpc = MLPClassifier(early_stopping=True, n_iter_no_change=10, max_iter=1000)\n",
    "mlpc = best_estimator(mlpc, mlpc_params, X, y)\n",
    "prediction = mlpc.predict(X_test)\n",
    "\n",
    "heatmap(y_test, prediction)"
   ]
  },
  {
   "cell_type": "markdown",
   "metadata": {},
   "source": [
    "### Ensemble Techniques"
   ]
  },
  {
   "cell_type": "code",
   "execution_count": 98,
   "metadata": {},
   "outputs": [],
   "source": [
    "gbc = HistGradientBoostingClassifier(\n",
    "    max_iter=100,\n",
    "    max_depth=10,\n",
    "    learning_rate=0.34,\n",
    "    l2_regularization=0.56\n",
    ")"
   ]
  },
  {
   "cell_type": "code",
   "execution_count": 99,
   "metadata": {},
   "outputs": [],
   "source": [
    "# rfc with the best hyperparameters\n",
    "rfc = RandomForestClassifier(n_estimators=10, max_depth=2)"
   ]
  },
  {
   "cell_type": "code",
   "execution_count": 100,
   "metadata": {},
   "outputs": [],
   "source": [
    "# mplc with the best hyperparameters\n",
    "mlpc = MLPClassifier(solver='sgd', max_iter=10, alpha=0.0556)"
   ]
  },
  {
   "cell_type": "code",
   "execution_count": 101,
   "metadata": {},
   "outputs": [
    {
     "name": "stderr",
     "output_type": "stream",
     "text": [
      "Training folds 🤓: 0it [00:00, ?it/s]"
     ]
    },
    {
     "name": "stderr",
     "output_type": "stream",
     "text": [
      "Training folds 🤓: 8it [00:04,  1.77it/s]\n"
     ]
    },
    {
     "name": "stdout",
     "output_type": "stream",
     "text": [
      "Training completed...🥲\n",
      "Train F1_score: 0.7694859524179968\n",
      "Test F1_score: 0.4628509757407916\n",
      "Train MSE: 0.22035714285714286\n",
      "Test MSE: 0.50125\n"
     ]
    },
    {
     "data": {
      "image/png": "[encoded data removed]",
      "text/plain": [
       "<Figure size 640x480 with 1 Axes>"
      ]
     },
     "metadata": {},
     "output_type": "display_data"
    },
    {
     "data": {
      "image/png": "[encoded data removed]",
      "text/plain": [
       "<Figure size 640x480 with 2 Axes>"
      ]
     },
     "metadata": {},
     "output_type": "display_data"
    }
   ],
   "source": [
    "vc = VotingClassifier(estimators=[('gbc', gbc), ('mlpc', mlpc), ('rfc', rfc)], voting='hard')\n",
    "vc = train_evaluate(vc, X, y)\n",
    "\n",
    "prediction = vc.predict(X_test)\n",
    "heatmap(y_test, prediction)"
   ]
  },
  {
   "cell_type": "markdown",
   "metadata": {},
   "source": [
    "Saving the best model and preprocessing step "
   ]
  },
  {
   "cell_type": "code",
   "execution_count": 102,
   "metadata": {},
   "outputs": [],
   "source": [
    "import pickle\n",
    "pickle.dump(mlpc, open('model.pkl', 'wb'))\n",
    "pickle.dump(scaler, open('scaler.pkl', 'wb'))"
   ]
  }
 ],
 "metadata": {
  "kernelspec": {
   "display_name": "Python 3",
   "language": "python",
   "name": "python3"
  },
  "language_info": {
   "codemirror_mode": {
    "name": "ipython",
    "version": 3
   },
   "file_extension": ".py",
   "mimetype": "text/x-python",
   "name": "python",
   "nbconvert_exporter": "python",
   "pygments_lexer": "ipython3",
   "version": "3.8.19"
  }
 },
 "nbformat": 4,
 "nbformat_minor": 2
}
